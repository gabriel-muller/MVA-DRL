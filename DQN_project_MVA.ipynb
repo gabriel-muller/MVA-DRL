{
 "cells": [
  {
   "cell_type": "markdown",
   "metadata": {},
   "source": [
    "**You may need to install [OpenCV](https://pypi.python.org/pypi/opencv-python) and [scikit-video](http://www.scikit-video.org/stable/).**"
   ]
  },
  {
   "cell_type": "code",
   "execution_count": 1,
   "metadata": {},
   "outputs": [
    {
     "name": "stderr",
     "output_type": "stream",
     "text": [
      "Using TensorFlow backend.\n"
     ]
    }
   ],
   "source": [
    "import keras\n",
    "import numpy as np\n",
    "import io\n",
    "import base64\n",
    "from IPython.display import HTML\n",
    "import skvideo\n",
    "skvideo.setFFmpegPath('C:/ffmpeg/bin')\n",
    "import skvideo.io\n",
    "import cv2\n",
    "import json\n",
    "\n",
    "from keras.models import Sequential,model_from_json\n",
    "from keras.layers.core import Dense\n",
    "from keras.optimizers import sgd, adam\n",
    "from keras.layers import Conv2D, MaxPooling2D, Activation, AveragePooling2D,Reshape,BatchNormalization, Flatten"
   ]
  },
  {
   "cell_type": "markdown",
   "metadata": {},
   "source": [
    "# MiniProject on Deep Reinforcement Learning"
   ]
  },
  {
   "cell_type": "markdown",
   "metadata": {},
   "source": [
    "__Notations__: $E_p$ is the expectation under probability $p$. Please justify each of your answer and widely comment your code."
   ]
  },
  {
   "cell_type": "markdown",
   "metadata": {},
   "source": [
    "# Context"
   ]
  },
  {
   "cell_type": "markdown",
   "metadata": {},
   "source": [
    "In a reinforcement learning algorithm, we modelize each step $t$ as an action $a_t$ obtained from a state $s_t$, i.e. $\\{(a_{t},s_{t})_{t\\leq T}\\}$ having the Markov property. We consider a discount factor $\\gamma \\in [0,1]$ that ensures convergence. The goal is to find among all the policies $\\pi$, one that maximizes the expected reward:\n",
    "\n",
    "\\begin{equation*}\n",
    "R(\\pi)=\\sum_{t\\leq T}E_{p^{\\pi}}[\\gamma^t r(s_{t},a_{t})] \\> ,\n",
    "\\end{equation*}\n",
    "\n",
    "where: \n",
    "\\begin{equation*}p^{\\pi}(a_{0},a_{1},s_{1},...,a_{T},s_{T})=p(a_{0})\\prod_{t=1}^{T}\\pi(a_{t}|s_{t})p(s_{t+1}|s_{t},a_{t}) \\> .\n",
    "\\end{equation*}\n",
    "\n",
    "We note the $Q$-function:\n",
    "\n",
    "\\begin{equation*}Q^\\pi(s,a)=E_{p^{\\pi}}[\\sum_{t\\leq T}\\gamma^{t}r(s_{t},a_{t})|s_{0}=s,a_{0}=a] \\> .\n",
    "\\end{equation*}\n",
    "\n",
    "Thus, the optimal Q function is:\n",
    "\\begin{equation*}\n",
    "Q^*(s,a)=\\max_{\\pi}Q^\\pi(s,a) \\> .\n",
    "\\end{equation*}\n",
    "\n",
    "In this project, we will apply the deep reinforcement learning techniques to a simple game: an agent will have to learn from scratch a policy that will permit it maximizing a reward."
   ]
  },
  {
   "cell_type": "markdown",
   "metadata": {},
   "source": [
    "## The environment, the agent and the game"
   ]
  },
  {
   "cell_type": "markdown",
   "metadata": {},
   "source": [
    "### The environment"
   ]
  },
  {
   "cell_type": "markdown",
   "metadata": {},
   "source": [
    "```Environment``` is an abstract class that represents the states, rewards, and actions to obtain the new state."
   ]
  },
  {
   "cell_type": "code",
   "execution_count": 2,
   "metadata": {},
   "outputs": [],
   "source": [
    "class Environment(object):\n",
    "    def __init__(self):\n",
    "        pass\n",
    "\n",
    "    def act(self, act):\n",
    "        \"\"\"\n",
    "        One can act on the environment and obtain its reaction:\n",
    "        - the new state\n",
    "        - the reward of the new state\n",
    "        - should we continue the game?\n",
    "\n",
    "        :return: state, reward, game_over\n",
    "        \"\"\"\n",
    "        pass\n",
    "\n",
    "\n",
    "    def reset(self):\n",
    "        \"\"\"\n",
    "        Reinitialize the environment to a random state and returns\n",
    "        the original state\n",
    "\n",
    "        :return: state\n",
    "        \"\"\"\n",
    "        pass\n",
    "    \n",
    "    def draw(self):\n",
    "        \"\"\"\n",
    "        Visualize in the console or graphically the current state\n",
    "        \"\"\"\n",
    "        pass"
   ]
  },
  {
   "cell_type": "markdown",
   "metadata": {},
   "source": [
    "The method ```act``` allows to act on the environment at a given state $s_t$ (stored internally), via action $a_t$. The method will return the new state $s_{t+1}$, the reward $r(s_{t},a_{t})$ and determines if $t\\leq T$ (*game_over*).\n",
    "\n",
    "The method ```reset``` simply reinitializes the environment to a random state $s_0$.\n",
    "\n",
    "The method ```draw``` displays the current state $s_t$ (this is useful to check the behavior of the Agent).\n",
    "\n",
    "We modelize $s_t$ as a tensor, while $a_t$ is an integer."
   ]
  },
  {
   "cell_type": "markdown",
   "metadata": {},
   "source": [
    "### The Agent"
   ]
  },
  {
   "cell_type": "markdown",
   "metadata": {},
   "source": [
    "The goal of the ```Agent``` is to interact with the ```Environment``` by proposing actions $a_t$ obtained from a given state $s_t$ to attempt to maximize its __reward__ $r(s_t,a_t)$. We propose the following abstract class:"
   ]
  },
  {
   "cell_type": "code",
   "execution_count": 3,
   "metadata": {},
   "outputs": [],
   "source": [
    "class Agent(object):\n",
    "    def __init__(self, epsilon=0.1, n_action=4):\n",
    "        self.epsilon = epsilon\n",
    "        self.n_action = n_action\n",
    "    \n",
    "    def set_epsilon(self,e):\n",
    "        self.epsilon = e\n",
    "\n",
    "    def act(self,s,train=True):\n",
    "        \"\"\" This function should return the next action to do:\n",
    "        an integer between 0 and 4 (not included) with a random exploration of epsilon\"\"\"\n",
    "        if train:\n",
    "            if np.random.rand() <= self.epsilon:\n",
    "                a = np.random.randint(0, self.n_action, size=1)[0]\n",
    "            else:\n",
    "                a = self.learned_act(s)\n",
    "        else: # in some cases, this can improve the performance.. remove it if poor performances\n",
    "            a = self.learned_act(s)\n",
    "\n",
    "        return a\n",
    "\n",
    "    def learned_act(self,s):\n",
    "        \"\"\" Act via the policy of the agent, from a given state s\n",
    "        it proposes an action a\"\"\"\n",
    "        pass\n",
    "\n",
    "    def reinforce(self, s, n_s, a, r, game_over_):\n",
    "        \"\"\" This function is the core of the learning algorithm. \n",
    "        It takes as an input the current state s_, the next state n_s_\n",
    "        the action a_ used to move from s_ to n_s_ and the reward r_.\n",
    "        \n",
    "        Its goal is to learn a policy.\n",
    "        \"\"\"\n",
    "        pass\n",
    "\n",
    "    def save(self):\n",
    "        \"\"\" This function returns basic stats if applicable: the\n",
    "        loss and/or the model\"\"\"\n",
    "        pass\n",
    "\n",
    "    def load(self):\n",
    "        \"\"\" This function allows to restore a model\"\"\"\n",
    "        pass"
   ]
  },
  {
   "cell_type": "markdown",
   "metadata": {},
   "source": [
    "***\n",
    "__Question 1__:\n",
    "Explain the function act. Why is ```epsilon``` essential?"
   ]
  },
  {
   "cell_type": "markdown",
   "metadata": {},
   "source": [
    "The goal of the function act is to return the action to use at each state. To do so, it applies a $\\epsilon$-greedy strategy : at state $s_t$, the agent will either pick the optimal learned action (based on all past actions) with a probability $1-\\epsilon$, or will pick a random action with probability $\\epsilon$. $\\epsilon$ thus represents how greedy the algorithm is during the exploration : if $\\epsilon$ is too small, the agent will mostly choose the action based on what he has already learned and might not discover better actions, while if $\\epsilon$ is too big, the agent will explore too much, choosing a random actions most of the time and will not use his past knowledge.\n",
    "The choice of $\\epsilon$ is therefor essential because it determines the tradeoff between exploration and exploitation."
   ]
  },
  {
   "cell_type": "markdown",
   "metadata": {},
   "source": [
    "***\n",
    "### The Game"
   ]
  },
  {
   "cell_type": "markdown",
   "metadata": {},
   "source": [
    "The ```Agent``` and the ```Environment``` work in an interlaced way as in the following (take some time to understand this code as it is the core of the project)\n",
    "\n",
    "```python\n",
    "\n",
    "epoch = 300\n",
    "env = Environment()\n",
    "agent = Agent()\n",
    "\n",
    "\n",
    "# Number of won games\n",
    "score = 0\n",
    "loss = 0\n",
    "\n",
    "\n",
    "for e in range(epoch):\n",
    "    # At each epoch, we restart to a fresh game and get the initial state\n",
    "    state = env.reset()\n",
    "    # This assumes that the games will end\n",
    "    game_over = False\n",
    "\n",
    "    win = 0\n",
    "    lose = 0\n",
    "    \n",
    "    while not game_over:\n",
    "        # The agent performs an action\n",
    "        action = agent.act(state)\n",
    "\n",
    "        # Apply an action to the environment, get the next state, the reward\n",
    "        # and if the games end\n",
    "        prev_state = state\n",
    "        state, reward, game_over = env.act(action)\n",
    "\n",
    "        # Update the counters\n",
    "        if reward > 0:\n",
    "            win = win + reward\n",
    "        if reward < 0:\n",
    "            lose = lose -reward\n",
    "\n",
    "        # Apply the reinforcement strategy\n",
    "        loss = agent.reinforce(prev_state, state,  action, reward, game_over)\n",
    "\n",
    "    # Save as a mp4\n",
    "    if e % 10 == 0:\n",
    "        env.draw(e)\n",
    "\n",
    "    # Update stats\n",
    "    score += win-lose\n",
    "\n",
    "    print(\"Epoch {:03d}/{:03d} | Loss {:.4f} | Win/lose count {}/{} ({})\"\n",
    "          .format(e, epoch, loss, win, lose, win-lose))\n",
    "    agent.save()\n",
    "```"
   ]
  },
  {
   "cell_type": "markdown",
   "metadata": {},
   "source": [
    "# The game, *eat cheese*"
   ]
  },
  {
   "cell_type": "markdown",
   "metadata": {},
   "source": [
    "A rat runs on an island and tries to eat as much as possible. The island is subdivided into $N\\times N$ cells, in which there are cheese (+0.5) and poisonous cells (-1). The rat has a visibility of 2 cells (thus it can see $5^2$ cells). The rat is given a time $T$ to accumulate as much food as possible. It can perform 4 actions: going up, down, left, right. \n",
    "\n",
    "The goal is to code an agent to solve this task that will learn by trial and error. We propose the following environment:"
   ]
  },
  {
   "cell_type": "code",
   "execution_count": 4,
   "metadata": {},
   "outputs": [],
   "source": [
    "class Environment(object):\n",
    "    def __init__(self, grid_size=10, max_time=500, temperature=0.1):\n",
    "        grid_size = grid_size+4\n",
    "        self.grid_size = grid_size\n",
    "        self.max_time = max_time\n",
    "        self.temperature = temperature\n",
    "\n",
    "        #board on which one plays\n",
    "        self.board = np.zeros((grid_size,grid_size))\n",
    "        self.position = np.zeros((grid_size,grid_size))\n",
    "\n",
    "        # coordinate of the cat\n",
    "        self.x = 0\n",
    "        self.y = 1\n",
    "\n",
    "        # self time\n",
    "        self.t = 0\n",
    "\n",
    "        self.scale=16\n",
    "\n",
    "        self.to_draw = np.zeros((max_time+2, grid_size*self.scale, grid_size*self.scale, 3))\n",
    "\n",
    "\n",
    "    def draw(self,e):\n",
    "        skvideo.io.vwrite(str(e) + '.mp4', self.to_draw)\n",
    "\n",
    "    def get_frame(self,t):\n",
    "        b = np.zeros((self.grid_size,self.grid_size,3))+128\n",
    "        b[self.board>0,0] = 256\n",
    "        b[self.board < 0, 2] = 256\n",
    "        b[self.x,self.y,:]=256\n",
    "        b[-2:,:,:]=0\n",
    "        b[:,-2:,:]=0\n",
    "        b[:2,:,:]=0\n",
    "        b[:,:2,:]=0\n",
    "        \n",
    "        b =  cv2.resize(b, None, fx=self.scale, fy=self.scale, interpolation=cv2.INTER_NEAREST)\n",
    "\n",
    "        self.to_draw[t,:,:,:]=b\n",
    "\n",
    "\n",
    "    def act(self, action):\n",
    "        \"\"\"This function returns the new state, reward and decides if the\n",
    "        game ends.\"\"\"\n",
    "\n",
    "        self.get_frame(int(self.t))\n",
    "\n",
    "        self.position = np.zeros((self.grid_size, self.grid_size))\n",
    "\n",
    "        self.position[0:2,:]= -1\n",
    "        self.position[:,0:2] = -1\n",
    "        self.position[-2:, :] = -1\n",
    "        self.position[:, -2:] = -1\n",
    "\n",
    "        self.position[self.x, self.y] = 1\n",
    "        if action == 0:\n",
    "            if self.x == self.grid_size-3:\n",
    "                self.x = self.x-1\n",
    "            else:\n",
    "                self.x = self.x + 1\n",
    "        elif action == 1:\n",
    "            if self.x == 2:\n",
    "                self.x = self.x+1\n",
    "            else:\n",
    "                self.x = self.x-1\n",
    "        elif action == 2:\n",
    "            if self.y == self.grid_size - 3:\n",
    "                self.y = self.y - 1\n",
    "            else:\n",
    "                self.y = self.y + 1\n",
    "        elif action == 3:\n",
    "            if self.y == 2:\n",
    "                self.y = self.y + 1\n",
    "            else:\n",
    "                self.y = self.y - 1\n",
    "        else:\n",
    "            RuntimeError('Error: action not recognized')\n",
    "\n",
    "        self.t = self.t + 1\n",
    "        reward = self.board[self.x, self.y]\n",
    "        self.board[self.x, self.y] = 0\n",
    "        game_over = self.t > self.max_time\n",
    "        state = np.concatenate((self.board.reshape(self.grid_size, self.grid_size,1),\n",
    "                        self.position.reshape(self.grid_size, self.grid_size,1)),axis=2)\n",
    "        state = state[self.x-2:self.x+3,self.y-2:self.y+3,:]\n",
    "\n",
    "        return state, reward, game_over\n",
    "\n",
    "    def reset(self):\n",
    "        \"\"\"This function resets the game and returns the initial state\"\"\"\n",
    "\n",
    "        self.x = np.random.randint(3, self.grid_size-3, size=1)[0]\n",
    "        self.y = np.random.randint(3, self.grid_size-3, size=1)[0]\n",
    "\n",
    "\n",
    "        bonus = 0.5*np.random.binomial(1,self.temperature,size=self.grid_size**2)\n",
    "        bonus = bonus.reshape(self.grid_size,self.grid_size)\n",
    "\n",
    "        malus = -1.0*np.random.binomial(1,self.temperature,size=self.grid_size**2)\n",
    "        malus = malus.reshape(self.grid_size, self.grid_size)\n",
    "\n",
    "        self.to_draw = np.zeros((self.max_time+2, self.grid_size*self.scale, self.grid_size*self.scale, 3))\n",
    "\n",
    "\n",
    "        malus[bonus>0]=0\n",
    "\n",
    "        self.board = bonus + malus\n",
    "\n",
    "        self.position = np.zeros((self.grid_size, self.grid_size))\n",
    "        self.position[0:2,:]= -1\n",
    "        self.position[:,0:2] = -1\n",
    "        self.position[-2:, :] = -1\n",
    "        self.position[:,-2:] = -1\n",
    "        self.board[self.x,self.y] = 0\n",
    "        self.t = 0\n",
    "\n",
    "        state = np.concatenate((\n",
    "                               self.board.reshape(self.grid_size, self.grid_size,1),\n",
    "                        self.position.reshape(self.grid_size, self.grid_size,1)),axis=2)\n",
    "\n",
    "        state = state[self.x - 2:self.x + 3, self.y - 2:self.y + 3, :]\n",
    "        return state"
   ]
  },
  {
   "cell_type": "markdown",
   "metadata": {},
   "source": [
    "The following elements are important because they correspond to the hyper parameters for this project:"
   ]
  },
  {
   "cell_type": "code",
   "execution_count": 5,
   "metadata": {},
   "outputs": [],
   "source": [
    "# parameters\n",
    "size = 13\n",
    "T=200\n",
    "temperature=0.3\n",
    "epochs_train= 50 # # set small when debugging\n",
    "epochs_test= 20 # # set small when debugging\n",
    "\n",
    "# display videos\n",
    "def display_videos(name):\n",
    "    video = io.open(name, 'r+b').read()\n",
    "    encoded = base64.b64encode(video)\n",
    "    return '''<video alt=\"test\" controls>\n",
    "                <source src=\"data:video/mp4;base64,{0}\" type=\"video/mp4\" />\n",
    "             </video>'''.format(encoded.decode('ascii'))"
   ]
  },
  {
   "cell_type": "markdown",
   "metadata": {},
   "source": [
    "__Question 2__ Explain the use of the arrays ```position``` and ```board```."
   ]
  },
  {
   "cell_type": "markdown",
   "metadata": {},
   "source": [
    "The array position corresponds to the position of the rat on the island. It has a size of (grid_size,grid_size), which is two cells larger than the island, to handle the 5x5 vision range of the rat. Its value are :\n",
    "\\begin{equation}\n",
    "  \\begin{cases}\n",
    "    -1, & \\text{where the rat is not allowed to go (the margins)}.\\\\\n",
    "    0, & \\text{where the rat is allowed to go (the island)}.\\\\\n",
    "    1, & \\text{where the rat is located}.\n",
    "  \\end{cases}\n",
    "\\end{equation}\n",
    "\n",
    "The array board represents the reward value of each cell:\n",
    "\\begin{equation}\n",
    "  \\begin{cases}\n",
    "    -1, & \\text{for a poisonous cell}.\\\\\n",
    "    0,5 & \\text{for a cheese cell}.\\\\\n",
    "    0, & \\text{for all others cells}.\n",
    "  \\end{cases}\n",
    "\\end{equation}\n",
    "When a rat go to a cell, it will receive the reward associated to the cell and the reward on the cell will be fixed to 0."
   ]
  },
  {
   "cell_type": "markdown",
   "metadata": {},
   "source": [
    "## Random Agent"
   ]
  },
  {
   "cell_type": "markdown",
   "metadata": {},
   "source": [
    "***\n",
    "__Question 3__ Implement a random Agent (only ```learned_act``` needs to be implemented):"
   ]
  },
  {
   "cell_type": "code",
   "execution_count": 6,
   "metadata": {},
   "outputs": [],
   "source": [
    "class RandomAgent(Agent):\n",
    "    def __init__(self):\n",
    "        super(RandomAgent, self).__init__()\n",
    "        pass\n",
    "\n",
    "    def learned_act(self, s):\n",
    "        #Random action\n",
    "        a = np.random.randint(0, self.n_action, size=1)[0]\n",
    "        return a"
   ]
  },
  {
   "cell_type": "markdown",
   "metadata": {},
   "source": [
    "***\n",
    "***\n",
    "__Question 4__ Visualize the game moves. You need to fill in the following function for the evaluation:"
   ]
  },
  {
   "cell_type": "code",
   "execution_count": 7,
   "metadata": {},
   "outputs": [],
   "source": [
    "def test(agent, env, epochs, prefix=''):\n",
    "    # Number of won games\n",
    "    score = 0\n",
    "    loss = 0\n",
    "    \n",
    "    for e in range(1,epochs+1):\n",
    "        # At each epoch, we restart to a fresh game and get the initial state\n",
    "        state = env.reset()\n",
    "        # This assumes that the games will end\n",
    "        game_over = False\n",
    "        \n",
    "        win = 0\n",
    "        lose = 0\n",
    "        \n",
    "        \n",
    "        while not game_over:\n",
    "            # The agent performs an action\n",
    "            action = agent.act(state)\n",
    "            \n",
    "            # Apply an action to the environment, get the next state, the reward\n",
    "            # and if the games end\n",
    "            prev_state = state\n",
    "            state, reward, game_over = env.act(action)\n",
    "\n",
    "            # Update the counters\n",
    "            if reward > 0:\n",
    "                win = win + reward\n",
    "            if reward < 0:\n",
    "                lose = lose - reward\n",
    "                 \n",
    "        # Save as a mp4\n",
    "        if e % 10 == 0:\n",
    "            env.draw(prefix+str(e))\n",
    "            \n",
    "         # Update stats\n",
    "        score = score + win - lose\n",
    "        \n",
    "        print(\"Win/lose count {:.2f}/{:.2f}. Average score ({:.2f})\"\n",
    "              .format(win, lose, score/e))\n",
    "    print('Final score: '+str(score/epochs))"
   ]
  },
  {
   "cell_type": "code",
   "execution_count": 8,
   "metadata": {},
   "outputs": [
    {
     "name": "stdout",
     "output_type": "stream",
     "text": [
      "Win/lose count 9.50/9.00. Average score (0.50)\n",
      "Win/lose count 6.00/7.00. Average score (-0.25)\n",
      "Win/lose count 10.00/13.00. Average score (-1.17)\n",
      "Win/lose count 6.50/12.00. Average score (-2.25)\n",
      "Win/lose count 9.00/16.00. Average score (-3.20)\n",
      "Win/lose count 10.00/8.00. Average score (-2.33)\n",
      "Win/lose count 10.50/10.00. Average score (-1.93)\n",
      "Win/lose count 12.00/11.00. Average score (-1.56)\n",
      "Win/lose count 8.00/11.00. Average score (-1.72)\n",
      "Win/lose count 12.00/8.00. Average score (-1.15)\n",
      "Win/lose count 10.50/13.00. Average score (-1.27)\n",
      "Win/lose count 8.50/19.00. Average score (-2.04)\n",
      "Win/lose count 7.50/23.00. Average score (-3.08)\n",
      "Win/lose count 10.50/17.00. Average score (-3.32)\n",
      "Win/lose count 14.00/19.00. Average score (-3.43)\n",
      "Win/lose count 8.00/18.00. Average score (-3.84)\n",
      "Win/lose count 6.00/14.00. Average score (-4.09)\n",
      "Win/lose count 14.50/12.00. Average score (-3.72)\n",
      "Win/lose count 7.00/11.00. Average score (-3.74)\n",
      "Win/lose count 9.50/15.00. Average score (-3.83)\n",
      "Final score: -3.825\n"
     ]
    },
    {
     "data": {
      "text/html": [
       "<video alt=\"test\" controls>\n",
       "                <source src=\"data:video/mp4;base64,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\" type=\"video/mp4\" />\n",
       "             </video>"
      ],
      "text/plain": [
       "<IPython.core.display.HTML object>"
      ]
     },
     "execution_count": 8,
     "metadata": {},
     "output_type": "execute_result"
    }
   ],
   "source": [
    "# Initialize the game\n",
    "env = Environment(grid_size=size, max_time=T,temperature=temperature)\n",
    "\n",
    "# Initialize the agent!\n",
    "agent = RandomAgent()\n",
    "\n",
    "test(agent,env,epochs_test,prefix='random')\n",
    "HTML(display_videos('random20.mp4'))"
   ]
  },
  {
   "cell_type": "markdown",
   "metadata": {},
   "source": [
    "***\n",
    "## DQN"
   ]
  },
  {
   "cell_type": "markdown",
   "metadata": {},
   "source": [
    "Let us assume here that $T=\\infty$.\n",
    "\n",
    "***\n",
    "__Question 5__ Let $\\pi$ be a policy, show that:\n",
    "\n",
    "\\begin{equation*}\n",
    "Q^{\\pi}(s,a)=E_{(s',a')\\sim p(.|s,a)}[r(s,a)+\\gamma Q^{\\pi}(s',a')]\n",
    "\\end{equation*}\n",
    "\n",
    "Then, show that for the optimal policy $\\pi^*$ (we assume its existence), the following holds: \n",
    "\n",
    "\\begin{equation*}\n",
    "Q^{*}(s,a)=E_{s'\\sim \\pi^*(.|s,a)}[r(s,a)+\\gamma\\max_{a'}Q^{*}(s',a')].\n",
    "\\end{equation*}\n",
    "Finally, deduce that a plausible objective is:\n",
    "\n",
    "\\begin{equation*}\n",
    "\\mathcal{L}(\\theta)=E_{s' \\sim \\pi^*(.|s,a)}\\Vert r+\\gamma\\max\\max_{a'}Q(s',a',\\theta)-Q(s,a,\\theta)\\Vert^{2}.\n",
    "\\end{equation*}\n",
    "\n",
    "\n"
   ]
  },
  {
   "cell_type": "markdown",
   "metadata": {},
   "source": [
    "__Answer__\n",
    "\n",
    "1) Let's show that: \n",
    "\\begin{equation} \n",
    "Q^{\\pi}(s,a)=E_{(s',a')\\sim p(.|s,a)}[r(s,a)+\\gamma Q^{\\pi}(s',a')] \n",
    "\\end{equation}\n",
    "\n",
    "\\begin{equation}\n",
    "\\begin{aligned}\n",
    "Q^{\\pi}(s, a) &=E_{P^{\\pi}} [\\sum_{t=0}^{\\infty} \\gamma^t r(s_t, a_t) | s_0=s, a_0=a] \\\\\n",
    "&=E_{P^{\\pi}} [r(s, a)+\\sum_{t=1}^{\\infty} \\gamma^t r(s_t, a_t) | s_0=s, a_0=a] \\\\\n",
    "&=r(s, a)+\\gamma E_{P^{\\pi}} [\\sum_{t=1}^{\\infty} \\gamma^{t-1} r(s_t, a_t) | s_0=s, a_0=a] \\\\\n",
    "&= r(s, a)+ \\sum_{(a',s')} p(s_1=s', a_1=a'|s_0=s, a_0=a) \\gamma E_{P^{\\pi}} [\\sum_{t=1}^{\\infty} \\gamma^{t-1} r(s_t, a_t) | s_0=s, a_0=a, s_1=s', a_1=a']\\\\\n",
    "&= r(s, a)+ \\sum_{(a',s')} p(s_1=s', a_1=a'|s_0=s, a_0=a) \\gamma E_{P^{\\pi}} [\\sum_{t=1}^{\\infty} \\gamma^{t-1} r(s_t, a_t) | s_1=s', a_1=a']\\\\\n",
    "&= r(s, a)+ \\sum_{(a',s')} p(s_1=s', a_1=a'|s_0=s, a_0=a) \\gamma Q^{\\pi}(s', a') \n",
    "\\\\\n",
    "&= r(s, a) + E_{(s',a')\\sim p(\\cdot|s,a)} [\\gamma Q^{\\pi}(s', a')]\n",
    "\\\\\n",
    "&= E_{(s',a')\\sim p(\\cdot|s,a)} [r(s, a) + \\gamma Q^{\\pi}(s', a')] \\ \n",
    "\\end{aligned}\n",
    "\\end{equation}\n",
    "\n",
    "2) Now ,  let's show that: \n",
    "\\begin{equation}\n",
    "Q^{*}(s, a)=E_{s^{\\prime} \\sim \\pi^{*}(. | s, a)}[r(s, a)+\\gamma \\max _{a^{\\prime}} Q^{*}(s^{\\prime}, a^{\\prime})]\n",
    "\\end{equation}\n",
    "\n",
    "\n",
    "We have:\n",
    "\\begin{equation}\n",
    "\\begin{aligned}\n",
    "Q^{*}(s, a)= \\max_{\\pi} Q^{\\pi}(s, a) = Q^{\\pi^*}(s, a) \\, with \\, \\pi^* = argmax\\,  Q^{\\pi}(s, a) \\\\\n",
    "\\end{aligned}\n",
    "\\end{equation}\n",
    "\n",
    "For each state $s$, there exist an action a such that $\\pi^*(a|s) = 1$, and $Q^{\\pi^{*}}(s, a)=\\max _{a}, Q^{\\pi^{*}}\\left(s, a^{\\prime}\\right)$ (otherwise\n",
    "$\\pi^{*}$ is not optimal). Let us denote $\\pi^{*}(s)$ this action.\n",
    "\n",
    "We thus obtain:\n",
    "\n",
    "\\begin{equation}\n",
    "\\begin{aligned}\n",
    "Q^{*}(s, a) =& Q^{\\pi^{*}}(s, a)=E_{s^{\\prime} \\sim \\pi^{*}(. | s, a)}\\left[r(s, a)+\\gamma Q^{\\pi^{*}}\\left(s^{\\prime}, \\pi^{*}\\left(s^{\\prime}\\right)\\right)\\right] \\\\\n",
    "=& E_{s^{\\prime} \\sim \\pi^{*}(. | s, a)}\\left[r(s, a)+\\gamma \\max _{a}, Q^{\\pi^{*}}\\left(s^{\\prime}, a^{\\prime}\\right)\\right] \\\\\n",
    "=& E_{s^{\\prime} \\sim \\pi^{*}(. | s, a)}\\left[r(s, a)+\\gamma \\max _{a}, Q^{*}\\left(s^{\\prime}, a^{\\prime}\\right)\\right]\n",
    "\\end{aligned}\n",
    "\\end{equation}\n",
    "\n",
    "3) We can estimate the Q-function by :\n",
    "\\begin{equation}\n",
    "\\begin{aligned}\n",
    "Q^{estim}(s, a,\\theta)= \\max_{\\pi} Q^{\\pi}(s, a) = Q^{\\pi^*}(s, a) \\, with \\, \\pi^* = argmax\\,  Q^{\\pi}(s, a,\\theta) \\\\\n",
    "\\end{aligned}\n",
    "\\end{equation}\n",
    "\n",
    "Then by using a quadratic loss function :\n",
    "\\begin{equation} \n",
    "\\begin{aligned} \n",
    "\\mathcal{L}(\\theta) &= ||Q^{estim}(s, a, \\theta) - Q(s, a, \\theta)||^2 \\\\\n",
    "&= ||\\mathbb{E}{s^\\prime\\sim p(\\cdot |s, a)} \\left[r(s, a) + \\gamma \\max{a^\\prime} Q (s^\\prime, a^\\prime, \\theta) \\right] - Q(s, a, \\theta)||^2 \\\\ &= \\mathbb{E}{s^\\prime\\sim p(\\cdot |s, a)} \\left[ ||r(s, a) + \\gamma \\max{a^\\prime} Q (s^\\prime, a^\\prime, \\theta) - Q(s, a, \\theta)||^2\\right]\n",
    "\\end{aligned}\n",
    "\\end{equation}\n",
    "\n"
   ]
  },
  {
   "cell_type": "markdown",
   "metadata": {},
   "source": [
    "***\n",
    "The DQN-learning algorithm relies on these derivations to train the parameters $\\theta$ of a Deep Neural Network:\n",
    "\n",
    "1. At the state $s_t$, select the action $a_t$ with best reward using $Q_t$ and store the results;\n",
    "\n",
    "2. Obtain the new state $s_{t+1}$ from the environment $p$;\n",
    "\n",
    "3. Store $(s_t,a_t,s_{t+1})$;\n",
    "\n",
    "4. Obtain $Q_{t+1}$ by minimizing  $\\mathcal{L}$ from a recovered batch from the previously stored results.\n",
    "\n",
    "***\n",
    "__Question 6__ Implement the class ```Memory``` that stores moves (in a replay buffer) via ```remember``` and provides a ```random_access``` to these. Specify a maximum memory size to avoid side effects. You can for example use a ```list()``` and set by default ```max_memory=100```."
   ]
  },
  {
   "cell_type": "code",
   "execution_count": 9,
   "metadata": {},
   "outputs": [],
   "source": [
    "class Memory(object):\n",
    "    def __init__(self, max_memory=100):\n",
    "        self.max_memory = max_memory\n",
    "        self.memory = list()\n",
    "\n",
    "    def remember(self, m):\n",
    "        self.memory.append(m)\n",
    "        if len(self.memory) > self.max_memory:\n",
    "            self.memory.pop(0)\n",
    "\n",
    "    def random_access(self):\n",
    "        return self.memory[np.random.randint(len(self.memory))]"
   ]
  },
  {
   "cell_type": "markdown",
   "metadata": {},
   "source": [
    "***\n",
    "The pipeline we will use for training is given below:"
   ]
  },
  {
   "cell_type": "code",
   "execution_count": 10,
   "metadata": {},
   "outputs": [],
   "source": [
    "def train(agent,env,epoch,prefix=''):\n",
    "    # Number of won games\n",
    "    score = 0\n",
    "    loss = 0\n",
    "\n",
    "    for e in range(1,epoch+1):\n",
    "        # At each epoch, we restart to a fresh game and get the initial state\n",
    "        state = env.reset()\n",
    "        # This assumes that the games will terminate\n",
    "        game_over = False\n",
    "\n",
    "        win = 0\n",
    "        lose = 0\n",
    "    \n",
    "        while not game_over:\n",
    "            \n",
    "            # The agent performs an action\n",
    "            action = agent.act(state)\n",
    "\n",
    "            # Apply an action to the environment, get the next state, the reward\n",
    "            # and if the games end\n",
    "            prev_state = state\n",
    "            state, reward, game_over = env.act(action)\n",
    "\n",
    "            # Update the counters\n",
    "            if reward > 0:\n",
    "                win = win + reward\n",
    "            if reward < 0:\n",
    "                lose = lose -reward\n",
    "\n",
    "            # Apply the reinforcement strategy\n",
    "            loss = agent.reinforce(prev_state, state,  action, reward, game_over)\n",
    "        \n",
    "        # Save as a mp4\n",
    "        if e % 10 == 0:\n",
    "            env.draw(prefix+str(e))\n",
    "\n",
    "        # Update stats\n",
    "        score += win-lose\n",
    "\n",
    "        print(\"Epoch {:03d}/{:03d} | Loss {:.4f} | Win/lose count {:.2f}/{:.2f} ({:.2f})\"\n",
    "              .format(e, epoch, loss, win, lose, win-lose))\n",
    "        agent.save(name_weights=prefix+'model.h5',name_model=prefix+'model.json')"
   ]
  },
  {
   "cell_type": "markdown",
   "metadata": {},
   "source": [
    "***\n",
    "__Question 7__ Implement the DQN training algorithm using a cascade of fully connected layers. You can use different learning rate, batch size or memory size parameters. In particular, the loss might oscillate while the player will start to win the games. You have to find a good criterium."
   ]
  },
  {
   "cell_type": "code",
   "execution_count": 11,
   "metadata": {},
   "outputs": [],
   "source": [
    "class DQN(Agent):\n",
    "    def __init__(self, grid_size,  epsilon = 0.1, memory_size=100, batch_size = 16,n_state=2):\n",
    "        super(DQN, self).__init__(epsilon = epsilon)\n",
    "\n",
    "        # Discount for Q learning\n",
    "        self.discount = 0.99\n",
    "        \n",
    "        self.grid_size = grid_size\n",
    "        \n",
    "        # number of state\n",
    "        self.n_state = n_state\n",
    "\n",
    "        # Memory\n",
    "        self.memory = Memory(memory_size)\n",
    "        \n",
    "        # Batch size when learning\n",
    "        self.batch_size = batch_size\n",
    "\n",
    "    def learned_act(self, s):\n",
    "        return np.argmax(self.model.predict(np.expand_dims(s,0)))\n",
    "\n",
    "    def reinforce(self, s_, n_s_, a_, r_, game_over_):\n",
    "        # Two steps: first memorize the states, second learn from the pool\n",
    "\n",
    "        self.memory.remember([s_, n_s_, a_, r_, game_over_])\n",
    "        \n",
    "        input_states = np.zeros((self.batch_size, 5,5,self.n_state))\n",
    "        target_q = np.zeros((self.batch_size, 4))\n",
    "        \n",
    "        for i in range(self.batch_size):\n",
    "            \n",
    "            s_, n_s, a_, r_, game_over_ = self.memory.random_access()\n",
    "            \n",
    "            input_states[i] = s_\n",
    "        \n",
    "            target_q[i] = self.model.predict(np.expand_dims(s_,0))\n",
    "            \n",
    "            if game_over_:\n",
    "                \n",
    "                target_q[i,a_] = r_\n",
    "            else:\n",
    "               \n",
    "                target_q[i, a_] = r_ + self.discount * np.max(self.model.predict(np.expand_dims(n_s,0)))\n",
    "       \n",
    "        # HINT: Clip the target to avoid exploiding gradients.. -- clipping is a bit tighter\n",
    "        target_q = np.clip(target_q, -3, 3)\n",
    "\n",
    "        l = self.model.train_on_batch(input_states, target_q)\n",
    "\n",
    "        return l\n",
    "\n",
    "    def save(self,name_weights='model.h5',name_model='model.json'):\n",
    "        self.model.save_weights(name_weights, overwrite=True)\n",
    "        with open(name_model, \"w\") as outfile:\n",
    "            json.dump(self.model.to_json(), outfile)\n",
    "            \n",
    "    def load(self,name_weights='model.h5',name_model='model.json'):\n",
    "        with open(name_model, \"r\") as jfile:\n",
    "            model = model_from_json(json.load(jfile))\n",
    "        model.load_weights(name_weights)\n",
    "        model.compile(\"sgd\", \"mse\")\n",
    "        self.model = model\n",
    "\n",
    "            \n",
    "class DQN_FC(DQN):\n",
    "    def __init__(self, *args, lr=0.1,**kwargs):\n",
    "        super(DQN_FC, self).__init__( *args,**kwargs)\n",
    "        \n",
    "        # NN Model\n",
    "        \n",
    "        ####### FILL IN\n",
    "        model = Sequential()\n",
    "        model.add(Flatten())\n",
    "        model.add(Dense(32, activation=\"relu\"))\n",
    "        model.add(Dense(16, activation=\"relu\"))\n",
    "        model.add(Dense(4))\n",
    "        model.compile(sgd(lr=lr, decay=1e-4, momentum=0.0), \"mse\")\n",
    "        self.model = model"
   ]
  },
  {
   "cell_type": "code",
   "execution_count": 12,
   "metadata": {},
   "outputs": [
    {
     "name": "stdout",
     "output_type": "stream",
     "text": [
      "Epoch 001/050 | Loss 0.0126 | Win/lose count 4.00/8.00 (-4.00)\n",
      "Epoch 002/050 | Loss 0.0052 | Win/lose count 10.00/9.00 (1.00)\n",
      "Epoch 003/050 | Loss 0.0121 | Win/lose count 7.00/3.00 (4.00)\n",
      "Epoch 004/050 | Loss 0.0093 | Win/lose count 4.50/9.00 (-4.50)\n",
      "Epoch 005/050 | Loss 0.0071 | Win/lose count 2.50/4.00 (-1.50)\n",
      "Epoch 006/050 | Loss 0.0119 | Win/lose count 4.00/5.00 (-1.00)\n",
      "Epoch 007/050 | Loss 0.0115 | Win/lose count 4.50/3.00 (1.50)\n",
      "Epoch 008/050 | Loss 0.0056 | Win/lose count 6.50/3.00 (3.50)\n",
      "Epoch 009/050 | Loss 0.0129 | Win/lose count 5.50/6.00 (-0.50)\n",
      "Epoch 010/050 | Loss 0.0148 | Win/lose count 6.00/2.00 (4.00)\n",
      "Epoch 011/050 | Loss 0.0579 | Win/lose count 2.50/3.00 (-0.50)\n",
      "Epoch 012/050 | Loss 0.0062 | Win/lose count 3.50/4.00 (-0.50)\n",
      "Epoch 013/050 | Loss 0.0092 | Win/lose count 5.50/6.00 (-0.50)\n",
      "Epoch 014/050 | Loss 0.0043 | Win/lose count 4.00/2.00 (2.00)\n",
      "Epoch 015/050 | Loss 0.0057 | Win/lose count 1.50/2.00 (-0.50)\n",
      "Epoch 016/050 | Loss 0.0048 | Win/lose count 5.50/2.00 (3.50)\n",
      "Epoch 017/050 | Loss 0.0024 | Win/lose count 6.00/11.00 (-5.00)\n",
      "Epoch 018/050 | Loss 0.0102 | Win/lose count 5.00/0.00 (5.00)\n",
      "Epoch 019/050 | Loss 0.0459 | Win/lose count 1.50/2.00 (-0.50)\n",
      "Epoch 020/050 | Loss 0.0032 | Win/lose count 10.00/2.00 (8.00)\n",
      "Epoch 021/050 | Loss 0.0022 | Win/lose count 7.50/3.00 (4.50)\n",
      "Epoch 022/050 | Loss 0.0028 | Win/lose count 4.50/3.00 (1.50)\n",
      "Epoch 023/050 | Loss 0.0085 | Win/lose count 11.50/3.00 (8.50)\n",
      "Epoch 024/050 | Loss 0.0330 | Win/lose count 8.00/1.00 (7.00)\n",
      "Epoch 025/050 | Loss 0.0264 | Win/lose count 6.00/2.00 (4.00)\n",
      "Epoch 026/050 | Loss 0.0088 | Win/lose count 11.50/2.00 (9.50)\n",
      "Epoch 027/050 | Loss 0.0038 | Win/lose count 9.50/4.00 (5.50)\n",
      "Epoch 028/050 | Loss 0.0058 | Win/lose count 8.00/3.00 (5.00)\n",
      "Epoch 029/050 | Loss 0.0482 | Win/lose count 8.00/2.00 (6.00)\n",
      "Epoch 030/050 | Loss 0.0122 | Win/lose count 3.00/0.00 (3.00)\n",
      "Epoch 031/050 | Loss 0.0055 | Win/lose count 7.00/2.00 (5.00)\n",
      "Epoch 032/050 | Loss 0.0042 | Win/lose count 7.50/2.00 (5.50)\n",
      "Epoch 033/050 | Loss 0.0126 | Win/lose count 5.00/0.00 (5.00)\n",
      "Epoch 034/050 | Loss 0.0121 | Win/lose count 7.00/5.00 (2.00)\n",
      "Epoch 035/050 | Loss 0.0411 | Win/lose count 6.50/3.00 (3.50)\n",
      "Epoch 036/050 | Loss 0.0052 | Win/lose count 7.50/1.00 (6.50)\n",
      "Epoch 037/050 | Loss 0.0043 | Win/lose count 1.50/5.00 (-3.50)\n",
      "Epoch 038/050 | Loss 0.0095 | Win/lose count 4.50/1.00 (3.50)\n",
      "Epoch 039/050 | Loss 0.0452 | Win/lose count 4.50/2.00 (2.50)\n",
      "Epoch 040/050 | Loss 0.0050 | Win/lose count 5.50/5.00 (0.50)\n",
      "Epoch 041/050 | Loss 0.0046 | Win/lose count 8.00/3.00 (5.00)\n",
      "Epoch 042/050 | Loss 0.0486 | Win/lose count 8.00/3.00 (5.00)\n",
      "Epoch 043/050 | Loss 0.0069 | Win/lose count 14.50/8.00 (6.50)\n",
      "Epoch 044/050 | Loss 0.0070 | Win/lose count 2.50/1.00 (1.50)\n",
      "Epoch 045/050 | Loss 0.0401 | Win/lose count 8.00/3.00 (5.00)\n",
      "Epoch 046/050 | Loss 0.0471 | Win/lose count 11.50/4.00 (7.50)\n",
      "Epoch 047/050 | Loss 0.0048 | Win/lose count 10.50/2.00 (8.50)\n",
      "Epoch 048/050 | Loss 0.0078 | Win/lose count 3.50/4.00 (-0.50)\n",
      "Epoch 049/050 | Loss 0.0048 | Win/lose count 6.00/3.00 (3.00)\n",
      "Epoch 050/050 | Loss 0.0072 | Win/lose count 8.00/3.00 (5.00)\n"
     ]
    },
    {
     "data": {
      "text/html": [
       "<video alt=\"test\" controls>\n",
       "                <source src=\"data:video/mp4;base64,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\" type=\"video/mp4\" />\n",
       "             </video>"
      ],
      "text/plain": [
       "<IPython.core.display.HTML object>"
      ]
     },
     "execution_count": 12,
     "metadata": {},
     "output_type": "execute_result"
    }
   ],
   "source": [
    "env = Environment(grid_size=size, max_time=T, temperature=0.3)\n",
    "agent = DQN_FC(size, lr=.1, epsilon = 0.1, memory_size=2000, batch_size = 32)\n",
    "train(agent, env, epochs_train, prefix='fc_train')\n",
    "HTML(display_videos('fc_train50.mp4'))"
   ]
  },
  {
   "cell_type": "markdown",
   "metadata": {},
   "source": [
    "***\n",
    "***\n",
    "__Question 8__ Implement the DQN training algorithm using a CNN (for example, 2 convolutional layers and one final fully connected layer)."
   ]
  },
  {
   "cell_type": "code",
   "execution_count": 13,
   "metadata": {},
   "outputs": [],
   "source": [
    "class DQN_CNN(DQN):\n",
    "    def __init__(self, *args,lr=0.1,**kwargs):\n",
    "        super(DQN_CNN, self).__init__(*args,**kwargs)\n",
    "        \n",
    "        ###### FILL IN\n",
    "        model = Sequential()\n",
    "        model.add(Conv2D(16, kernel_size=(3, 3), input_shape=(5, 5, self.n_state), activation='relu'))\n",
    "        model.add(Conv2D(32, kernel_size=(3, 3),activation='relu'))\n",
    "        model.add(Flatten())\n",
    "        model.add(Dense(4))\n",
    "        \n",
    "        model.compile(sgd(lr=lr, decay=1e-4, momentum=0.0), \"mse\")\n",
    "        self.model = model"
   ]
  },
  {
   "cell_type": "code",
   "execution_count": 14,
   "metadata": {},
   "outputs": [
    {
     "name": "stdout",
     "output_type": "stream",
     "text": [
      "Epoch 001/050 | Loss 0.0017 | Win/lose count 2.00/5.00 (-3.00)\n",
      "Epoch 002/050 | Loss 0.0012 | Win/lose count 4.00/2.00 (2.00)\n",
      "Epoch 003/050 | Loss 0.0194 | Win/lose count 3.50/4.00 (-0.50)\n",
      "Epoch 004/050 | Loss 0.0014 | Win/lose count 2.50/3.00 (-0.50)\n",
      "Epoch 005/050 | Loss 0.0012 | Win/lose count 2.50/5.00 (-2.50)\n",
      "Epoch 006/050 | Loss 0.0028 | Win/lose count 5.00/2.00 (3.00)\n",
      "Epoch 007/050 | Loss 0.0024 | Win/lose count 4.50/6.00 (-1.50)\n",
      "Epoch 008/050 | Loss 0.0486 | Win/lose count 2.00/7.00 (-5.00)\n",
      "Epoch 009/050 | Loss 0.0030 | Win/lose count 3.50/3.00 (0.50)\n",
      "Epoch 010/050 | Loss 0.0031 | Win/lose count 3.00/2.00 (1.00)\n",
      "Epoch 011/050 | Loss 0.0048 | Win/lose count 5.50/4.00 (1.50)\n",
      "Epoch 012/050 | Loss 0.0028 | Win/lose count 4.50/2.00 (2.50)\n",
      "Epoch 013/050 | Loss 0.0109 | Win/lose count 6.50/8.00 (-1.50)\n",
      "Epoch 014/050 | Loss 0.0036 | Win/lose count 6.00/0.00 (6.00)\n",
      "Epoch 015/050 | Loss 0.0011 | Win/lose count 6.50/2.00 (4.50)\n",
      "Epoch 016/050 | Loss 0.0019 | Win/lose count 1.00/1.00 (0.00)\n",
      "Epoch 017/050 | Loss 0.0014 | Win/lose count 8.00/4.00 (4.00)\n",
      "Epoch 018/050 | Loss 0.0028 | Win/lose count 4.00/4.00 (0.00)\n",
      "Epoch 019/050 | Loss 0.0017 | Win/lose count 5.00/3.00 (2.00)\n",
      "Epoch 020/050 | Loss 0.0017 | Win/lose count 7.00/4.00 (3.00)\n",
      "Epoch 021/050 | Loss 0.0048 | Win/lose count 17.00/5.00 (12.00)\n",
      "Epoch 022/050 | Loss 0.0010 | Win/lose count 13.00/2.00 (11.00)\n",
      "Epoch 023/050 | Loss 0.0440 | Win/lose count 6.00/3.00 (3.00)\n",
      "Epoch 024/050 | Loss 0.0016 | Win/lose count 14.50/5.00 (9.50)\n",
      "Epoch 025/050 | Loss 0.0022 | Win/lose count 18.00/8.00 (10.00)\n",
      "Epoch 026/050 | Loss 0.0027 | Win/lose count 16.50/3.00 (13.50)\n",
      "Epoch 027/050 | Loss 0.0029 | Win/lose count 14.00/0.00 (14.00)\n",
      "Epoch 028/050 | Loss 0.0495 | Win/lose count 10.50/3.00 (7.50)\n",
      "Epoch 029/050 | Loss 0.0654 | Win/lose count 9.50/0.00 (9.50)\n",
      "Epoch 030/050 | Loss 0.0018 | Win/lose count 1.50/3.00 (-1.50)\n",
      "Epoch 031/050 | Loss 0.0048 | Win/lose count 12.50/2.00 (10.50)\n",
      "Epoch 032/050 | Loss 0.0503 | Win/lose count 12.00/1.00 (11.00)\n",
      "Epoch 033/050 | Loss 0.0074 | Win/lose count 6.00/4.00 (2.00)\n",
      "Epoch 034/050 | Loss 0.0020 | Win/lose count 11.50/3.00 (8.50)\n",
      "Epoch 035/050 | Loss 0.0507 | Win/lose count 4.50/6.00 (-1.50)\n",
      "Epoch 036/050 | Loss 0.0585 | Win/lose count 4.50/4.00 (0.50)\n",
      "Epoch 037/050 | Loss 0.0015 | Win/lose count 10.50/0.00 (10.50)\n",
      "Epoch 038/050 | Loss 0.0020 | Win/lose count 11.00/4.00 (7.00)\n",
      "Epoch 039/050 | Loss 0.0012 | Win/lose count 3.00/0.00 (3.00)\n",
      "Epoch 040/050 | Loss 0.0032 | Win/lose count 11.50/4.00 (7.50)\n",
      "Epoch 041/050 | Loss 0.0038 | Win/lose count 13.00/4.00 (9.00)\n",
      "Epoch 042/050 | Loss 0.0126 | Win/lose count 6.00/3.00 (3.00)\n",
      "Epoch 043/050 | Loss 0.0010 | Win/lose count 14.00/1.00 (13.00)\n",
      "Epoch 044/050 | Loss 0.0030 | Win/lose count 10.50/5.00 (5.50)\n",
      "Epoch 045/050 | Loss 0.0417 | Win/lose count 14.00/0.00 (14.00)\n",
      "Epoch 046/050 | Loss 0.0028 | Win/lose count 17.00/3.00 (14.00)\n",
      "Epoch 047/050 | Loss 0.0039 | Win/lose count 9.00/3.00 (6.00)\n",
      "Epoch 048/050 | Loss 0.0011 | Win/lose count 10.00/4.00 (6.00)\n",
      "Epoch 049/050 | Loss 0.0021 | Win/lose count 3.50/2.00 (1.50)\n",
      "Epoch 050/050 | Loss 0.0024 | Win/lose count 23.50/0.00 (23.50)\n"
     ]
    },
    {
     "data": {
      "text/html": [
       "<video alt=\"test\" controls>\n",
       "                <source src=\"data:video/mp4;base64,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\" type=\"video/mp4\" />\n",
       "             </video>"
      ],
      "text/plain": [
       "<IPython.core.display.HTML object>"
      ]
     },
     "execution_count": 14,
     "metadata": {},
     "output_type": "execute_result"
    }
   ],
   "source": [
    "env = Environment(grid_size=size, max_time=T, temperature=0.3)\n",
    "agent = DQN_CNN(size, lr=.1, epsilon = 0.1, memory_size=2000, batch_size = 32)\n",
    "train(agent,env,epochs_train,prefix='cnn_train')\n",
    "HTML(display_videos('cnn_train50.mp4'))"
   ]
  },
  {
   "cell_type": "markdown",
   "metadata": {},
   "source": [
    "***\n",
    "***\n",
    "__Question 9__ Test both algorithms and compare their performances. Which issue(s) do you observe? Observe also different behaviors by changing the temperature."
   ]
  },
  {
   "cell_type": "code",
   "execution_count": 15,
   "metadata": {},
   "outputs": [
    {
     "name": "stdout",
     "output_type": "stream",
     "text": [
      "Test of the CNN\n",
      "Win/lose count 9.00/1.00. Average score (8.00)\n",
      "Win/lose count 7.50/1.00. Average score (7.25)\n",
      "Win/lose count 9.00/2.00. Average score (7.17)\n",
      "Win/lose count 6.00/2.00. Average score (6.38)\n",
      "Win/lose count 3.50/1.00. Average score (5.60)\n",
      "Win/lose count 3.50/1.00. Average score (5.08)\n",
      "Win/lose count 7.00/2.00. Average score (5.07)\n",
      "Win/lose count 4.50/3.00. Average score (4.62)\n",
      "Win/lose count 2.50/2.00. Average score (4.17)\n",
      "Win/lose count 6.50/1.00. Average score (4.30)\n",
      "Win/lose count 5.00/1.00. Average score (4.27)\n",
      "Win/lose count 3.50/2.00. Average score (4.04)\n",
      "Win/lose count 6.50/2.00. Average score (4.08)\n",
      "Win/lose count 3.00/1.00. Average score (3.93)\n",
      "Win/lose count 8.00/2.00. Average score (4.07)\n",
      "Win/lose count 7.00/3.00. Average score (4.06)\n",
      "Win/lose count 6.50/0.00. Average score (4.21)\n",
      "Win/lose count 6.00/2.00. Average score (4.19)\n",
      "Win/lose count 6.00/3.00. Average score (4.13)\n",
      "Win/lose count 2.50/0.00. Average score (4.05)\n",
      "Final score: 4.05\n",
      "Test of the FC\n",
      "Win/lose count 4.50/6.00. Average score (-1.50)\n",
      "Win/lose count 4.00/5.00. Average score (-1.25)\n",
      "Win/lose count 3.50/7.00. Average score (-2.00)\n",
      "Win/lose count 1.50/3.00. Average score (-1.88)\n",
      "Win/lose count 2.00/1.00. Average score (-1.30)\n",
      "Win/lose count 7.00/7.00. Average score (-1.08)\n",
      "Win/lose count 3.50/1.00. Average score (-0.57)\n",
      "Win/lose count 4.00/7.00. Average score (-0.88)\n",
      "Win/lose count 9.50/6.00. Average score (-0.39)\n",
      "Win/lose count 6.00/7.00. Average score (-0.45)\n",
      "Win/lose count 2.50/2.00. Average score (-0.36)\n",
      "Win/lose count 1.00/8.00. Average score (-0.92)\n",
      "Win/lose count 4.50/5.00. Average score (-0.88)\n",
      "Win/lose count 3.00/3.00. Average score (-0.82)\n",
      "Win/lose count 5.50/5.00. Average score (-0.73)\n",
      "Win/lose count 4.50/4.00. Average score (-0.66)\n",
      "Win/lose count 2.00/2.00. Average score (-0.62)\n",
      "Win/lose count 2.50/3.00. Average score (-0.61)\n",
      "Win/lose count 5.50/8.00. Average score (-0.71)\n",
      "Win/lose count 8.00/10.00. Average score (-0.78)\n",
      "Final score: -0.775\n"
     ]
    }
   ],
   "source": [
    "env = Environment(grid_size=size, max_time=T,temperature=0.3)\n",
    "agent_cnn = DQN_CNN(size, lr=.1, epsilon = 0.1, memory_size=2000, batch_size = 32)\n",
    "agent_cnn.load(name_weights='cnn_trainmodel.h5',name_model='cnn_trainmodel.json')\n",
    "\n",
    "agent_fc = DQN_FC(size, lr=.1, epsilon = 0.1, memory_size=2000, batch_size = 32)\n",
    "agent_cnn.load(name_weights='fc_trainmodel.h5',name_model='fc_trainmodel.json')\n",
    "print('Test of the CNN')\n",
    "test(agent_cnn,env,epochs_test,prefix='cnn_test')\n",
    "print('Test of the FC')\n",
    "test(agent_fc,env,epochs_test,prefix='fc_test')"
   ]
  },
  {
   "cell_type": "code",
   "execution_count": 16,
   "metadata": {},
   "outputs": [
    {
     "data": {
      "text/html": [
       "<video alt=\"test\" controls>\n",
       "                <source src=\"data:video/mp4;base64,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\" type=\"video/mp4\" />\n",
       "             </video>"
      ],
      "text/plain": [
       "<IPython.core.display.HTML object>"
      ]
     },
     "execution_count": 16,
     "metadata": {},
     "output_type": "execute_result"
    }
   ],
   "source": [
    "HTML(display_videos('cnn_test20.mp4'))"
   ]
  },
  {
   "cell_type": "code",
   "execution_count": 17,
   "metadata": {},
   "outputs": [
    {
     "data": {
      "text/html": [
       "<video alt=\"test\" controls>\n",
       "                <source src=\"data:video/mp4;base64,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\" type=\"video/mp4\" />\n",
       "             </video>"
      ],
      "text/plain": [
       "<IPython.core.display.HTML object>"
      ]
     },
     "execution_count": 17,
     "metadata": {},
     "output_type": "execute_result"
    }
   ],
   "source": [
    "HTML(display_videos('fc_test20.mp4'))"
   ]
  },
  {
   "cell_type": "markdown",
   "metadata": {},
   "source": [
    "We observe here that the CNN tends to largely outperforms the FC algorithm. However in both case, the agent seems to often be stuck in the same space, and do not explore the entirety of the island, preventing him from getting further bonuses and thus limiting its score.\n",
    "\n",
    "The temperature parameter corresponds to the probability of generating a cheese or a poison at each cell of the island. If the temperature is very low, only a few cells have bonuses and maluses, therefor it tends to limit the agent's score because of the limited number of bonuses and the difficulty to learn the best actions (most actions being to go from an empty cell to another). On the other hand, if the temperature is high, there are a lot more of bonuses cells, as if there is a bonus and a malus on the cell, the cell will be considered as a bonus. The agent can therefor both win a lot and learn a lot which improve the overall score for both algorithms."
   ]
  },
  {
   "cell_type": "markdown",
   "metadata": {},
   "source": [
    "***\n",
    "\n",
    "The algorithm tends to not explore the map which can be an issue. We propose two ideas in order to encourage exploration:\n",
    "1. Incorporating a decreasing $\\epsilon$-greedy exploration. You can use the method ```set_epsilon```\n",
    "2. Append via the environment a new state that describes if a cell has been visited or not\n",
    "\n",
    "***\n",
    "__Question 10__ Design a new ```train_explore``` function and environment class ```EnvironmentExploring``` to tackle the issue of exploration.\n",
    "\n"
   ]
  },
  {
   "cell_type": "code",
   "execution_count": 18,
   "metadata": {},
   "outputs": [],
   "source": [
    "def train_explore(agent,env,epoch,decay = 0.99, prefix=''):\n",
    "    # Number of won games\n",
    "    score = 0\n",
    "    loss = 0\n",
    "\n",
    "    for e in range(1,epoch+1):\n",
    "        # At each epoch, we restart to a fresh game and get the initial state\n",
    "        state = env.reset()\n",
    "        # This assumes that the games will terminate\n",
    "        game_over = False\n",
    "\n",
    "        win = 0\n",
    "        lose = 0\n",
    "\n",
    "        while not game_over:\n",
    "            # The agent performs an action\n",
    "            action = agent.act(state)\n",
    "\n",
    "            # Apply an action to the environment, get the next state, the reward\n",
    "            # and if the games end\n",
    "            prev_state = state\n",
    "            state, reward, game_over = env.act(action, train=True)\n",
    "\n",
    "            # Update the counters\n",
    "            if reward > 0:\n",
    "                win = win + reward\n",
    "            if reward < 0:\n",
    "                lose = lose -reward\n",
    "\n",
    "            # Apply the reinforcement strategy\n",
    "            loss = agent.reinforce(prev_state, state,  action, reward, game_over)\n",
    "            \n",
    "            # decay the epsilon greedy parameter\n",
    "            agent.set_epsilon(agent.epsilon * decay)\n",
    "\n",
    "        # Save as a mp4\n",
    "        if e % 10 == 0:\n",
    "            env.draw(prefix+str(e))\n",
    "\n",
    "        # Update stats\n",
    "        score += win-lose\n",
    "        \n",
    "        print(\"Epoch {:03d}/{:03d} | Loss {:.4f} | Win/lose count {:.2f}/{:.2f} ({:.2f})\"\n",
    "              .format(e, epoch, loss, win, lose, win-lose))\n",
    "        \n",
    "        agent.save(name_weights=prefix+'model.h5',name_model=prefix+'model.json')\n",
    "        \n",
    "class EnvironmentExploring(object):\n",
    "    def __init__(self, grid_size=10, max_time=500, temperature=0.1):\n",
    "        grid_size = grid_size+4\n",
    "        self.grid_size = grid_size\n",
    "        self.max_time = max_time\n",
    "        self.temperature = temperature\n",
    "\n",
    "        # board on which one plays\n",
    "        self.board = np.zeros((grid_size,grid_size))\n",
    "        self.position = np.zeros((grid_size,grid_size))\n",
    "        \n",
    "        self.malus_position = np.zeros((grid_size,grid_size))\n",
    "\n",
    "        # coordinate of the cat\n",
    "        self.x = 0\n",
    "        self.y = 1\n",
    "\n",
    "        # self time\n",
    "        self.t = 0\n",
    "\n",
    "        self.scale=16\n",
    "\n",
    "        self.to_draw = np.zeros((max_time+2, grid_size*self.scale, grid_size*self.scale, 3))\n",
    "\n",
    "\n",
    "    def draw(self,e):\n",
    "        skvideo.io.vwrite(str(e) + '.mp4', self.to_draw)\n",
    "\n",
    "    def get_frame(self,t):\n",
    "        b = np.zeros((self.grid_size,self.grid_size,3))+128\n",
    "        b[self.board>0,0] = 256\n",
    "        b[self.board < 0, 2] = 256\n",
    "        b[self.x,self.y,:]=256\n",
    "        b[-2:,:,:]=0\n",
    "        b[:,-2:,:]=0\n",
    "        b[:2,:,:]=0\n",
    "        b[:,:2,:]=0\n",
    "        \n",
    "        b =  cv2.resize(b, None, fx=self.scale, fy=self.scale, interpolation=cv2.INTER_NEAREST)\n",
    "\n",
    "        self.to_draw[t,:,:,:]=b\n",
    "\n",
    "\n",
    "    def act(self, action, train=False):\n",
    "        \"\"\"This function returns the new state, reward and decides if the\n",
    "        game ends.\"\"\"\n",
    "        \n",
    "        self.get_frame(int(self.t))\n",
    "\n",
    "        self.position = np.zeros((self.grid_size, self.grid_size))\n",
    "\n",
    "        self.position[0:2,:]= -1\n",
    "        self.position[:,0:2] = -1\n",
    "        self.position[-2:, :] = -1\n",
    "        self.position[:, -2:] = -1\n",
    "        self.position[self.x, self.y] = 1\n",
    "        \n",
    "        if action == 0:\n",
    "            if self.x == self.grid_size-3:\n",
    "                self.x = self.x-1\n",
    "            else:\n",
    "                self.x = self.x + 1\n",
    "        elif action == 1:\n",
    "            if self.x == 2:\n",
    "                self.x = self.x+1\n",
    "            else:\n",
    "                self.x = self.x-1\n",
    "        elif action == 2:\n",
    "            if self.y == self.grid_size - 3:\n",
    "                self.y = self.y - 1\n",
    "            else:\n",
    "                self.y = self.y + 1\n",
    "        elif action == 3:\n",
    "            if self.y == 2:\n",
    "                self.y = self.y + 1\n",
    "            else:\n",
    "                self.y = self.y - 1\n",
    "        else:\n",
    "            RuntimeError('Error: action not recognized')\n",
    "\n",
    "        self.t = self.t + 1\n",
    "        reward = 0\n",
    "        if train:\n",
    "            reward -= self.malus_position[self.x, self.y]  \n",
    "        self.malus_position[self.x, self.y] = 0.1\n",
    "        \n",
    "        reward = reward + self.board[self.x, self.y]\n",
    "        self.board[self.x, self.y] = 0\n",
    "        game_over = self.t > self.max_time\n",
    "        \n",
    "        \n",
    "        state = np.concatenate((self.malus_position.reshape(self.grid_size, self.grid_size,1),\n",
    "                                self.board.reshape(self.grid_size, self.grid_size,1),\n",
    "                        self.position.reshape(self.grid_size, self.grid_size,1)),axis=2)\n",
    "        \n",
    "\n",
    "        state = state[self.x-2:self.x+3,self.y-2:self.y+3,:]\n",
    "\n",
    "        return state, reward, game_over\n",
    "\n",
    "    def reset(self):\n",
    "        \"\"\"This function resets the game and returns the initial state\"\"\"\n",
    "\n",
    "        self.x = np.random.randint(3, self.grid_size-3, size=1)[0]\n",
    "        self.y = np.random.randint(3, self.grid_size-3, size=1)[0]\n",
    "\n",
    "\n",
    "        bonus = 0.5*np.random.binomial(1,self.temperature,size=self.grid_size**2)\n",
    "        bonus = bonus.reshape(self.grid_size,self.grid_size)\n",
    "\n",
    "        malus = -1.0*np.random.binomial(1,self.temperature,size=self.grid_size**2)\n",
    "        malus = malus.reshape(self.grid_size, self.grid_size)\n",
    "\n",
    "        self.to_draw = np.zeros((self.max_time+2, self.grid_size*self.scale, self.grid_size*self.scale, 3))\n",
    "\n",
    "        \n",
    "        malus[bonus>0]=0\n",
    "\n",
    "        self.board = bonus + malus\n",
    "\n",
    "        self.position = np.zeros((self.grid_size, self.grid_size))\n",
    "        self.position[0:2,:]= -1\n",
    "        self.position[:,0:2] = -1\n",
    "        self.position[-2:, :] = -1\n",
    "        self.position[:, -2:] = -1\n",
    "        self.board[self.x,self.y] = 0\n",
    "        self.t = 0\n",
    "        \n",
    "        # reset the malus_position to all zeros\n",
    "        self.malus_position = np.zeros((self.grid_size, self.grid_size))\n",
    "\n",
    "        state = np.concatenate((self.malus_position.reshape(self.grid_size, self.grid_size,1), \n",
    "                               self.board.reshape(self.grid_size, self.grid_size,1), \n",
    "                        self.position.reshape(self.grid_size, self.grid_size,1)), axis=2)\n",
    "\n",
    "        state = state[self.x - 2:self.x + 3, self.y - 2:self.y + 3, :]\n",
    "        return state\n",
    "    "
   ]
  },
  {
   "cell_type": "code",
   "execution_count": 19,
   "metadata": {},
   "outputs": [
    {
     "name": "stdout",
     "output_type": "stream",
     "text": [
      "Epoch 001/050 | Loss 0.0053 | Win/lose count 4.50/20.70 (-16.20)\n",
      "Epoch 002/050 | Loss 0.0095 | Win/lose count 1.50/20.90 (-19.40)\n",
      "Epoch 003/050 | Loss 0.0092 | Win/lose count 6.00/20.20 (-14.20)\n",
      "Epoch 004/050 | Loss 0.0093 | Win/lose count 7.00/20.40 (-13.40)\n",
      "Epoch 005/050 | Loss 0.0244 | Win/lose count 6.50/19.40 (-12.90)\n",
      "Epoch 006/050 | Loss 0.0086 | Win/lose count 3.50/20.40 (-16.90)\n",
      "Epoch 007/050 | Loss 0.0040 | Win/lose count 3.50/19.40 (-15.90)\n",
      "Epoch 008/050 | Loss 0.0058 | Win/lose count 7.00/17.70 (-10.70)\n",
      "Epoch 009/050 | Loss 0.0041 | Win/lose count 7.00/18.10 (-11.10)\n",
      "Epoch 010/050 | Loss 0.0016 | Win/lose count 2.00/20.00 (-18.00)\n",
      "Epoch 011/050 | Loss 0.0126 | Win/lose count 13.00/15.70 (-2.70)\n",
      "Epoch 012/050 | Loss 0.0048 | Win/lose count 9.50/16.00 (-6.50)\n",
      "Epoch 013/050 | Loss 0.0086 | Win/lose count 6.00/17.90 (-11.90)\n",
      "Epoch 014/050 | Loss 0.0073 | Win/lose count 1.00/20.30 (-19.30)\n",
      "Epoch 015/050 | Loss 0.0042 | Win/lose count 8.00/18.40 (-10.40)\n",
      "Epoch 016/050 | Loss 0.0043 | Win/lose count 3.50/18.90 (-15.40)\n",
      "Epoch 017/050 | Loss 0.0026 | Win/lose count 19.50/14.30 (5.20)\n",
      "Epoch 018/050 | Loss 0.0047 | Win/lose count 9.50/18.40 (-8.90)\n",
      "Epoch 019/050 | Loss 0.0032 | Win/lose count 2.00/19.30 (-17.30)\n",
      "Epoch 020/050 | Loss 0.0040 | Win/lose count 7.00/16.80 (-9.80)\n",
      "Epoch 021/050 | Loss 0.0019 | Win/lose count 12.50/16.90 (-4.40)\n",
      "Epoch 022/050 | Loss 0.0027 | Win/lose count 15.00/15.50 (-0.50)\n",
      "Epoch 023/050 | Loss 0.0051 | Win/lose count 4.50/17.40 (-12.90)\n",
      "Epoch 024/050 | Loss 0.0054 | Win/lose count 6.50/17.70 (-11.20)\n",
      "Epoch 025/050 | Loss 0.0088 | Win/lose count 11.50/16.00 (-4.50)\n",
      "Epoch 026/050 | Loss 0.0076 | Win/lose count 7.00/19.00 (-12.00)\n",
      "Epoch 027/050 | Loss 0.0048 | Win/lose count 6.50/17.90 (-11.40)\n",
      "Epoch 028/050 | Loss 0.0048 | Win/lose count 18.00/14.10 (3.90)\n",
      "Epoch 029/050 | Loss 0.0138 | Win/lose count 22.50/11.90 (10.60)\n",
      "Epoch 030/050 | Loss 0.0269 | Win/lose count 21.00/11.20 (9.80)\n",
      "Epoch 031/050 | Loss 0.0107 | Win/lose count 10.00/16.70 (-6.70)\n",
      "Epoch 032/050 | Loss 0.0097 | Win/lose count 4.00/18.70 (-14.70)\n",
      "Epoch 033/050 | Loss 0.0059 | Win/lose count 14.50/14.30 (0.20)\n",
      "Epoch 034/050 | Loss 0.0227 | Win/lose count 14.00/14.70 (-0.70)\n",
      "Epoch 035/050 | Loss 0.0151 | Win/lose count 15.50/13.00 (2.50)\n",
      "Epoch 036/050 | Loss 0.0168 | Win/lose count 14.00/13.90 (0.10)\n",
      "Epoch 037/050 | Loss 0.0299 | Win/lose count 8.50/17.00 (-8.50)\n",
      "Epoch 038/050 | Loss 0.0105 | Win/lose count 20.50/11.40 (9.10)\n",
      "Epoch 039/050 | Loss 0.0093 | Win/lose count 6.50/18.20 (-11.70)\n",
      "Epoch 040/050 | Loss 0.0053 | Win/lose count 18.50/12.30 (6.20)\n",
      "Epoch 041/050 | Loss 0.0059 | Win/lose count 7.50/18.00 (-10.50)\n",
      "Epoch 042/050 | Loss 0.0088 | Win/lose count 21.50/11.20 (10.30)\n",
      "Epoch 043/050 | Loss 0.0065 | Win/lose count 15.50/14.70 (0.80)\n",
      "Epoch 044/050 | Loss 0.0143 | Win/lose count 15.50/14.90 (0.60)\n",
      "Epoch 045/050 | Loss 0.0093 | Win/lose count 17.00/13.10 (3.90)\n",
      "Epoch 046/050 | Loss 0.0084 | Win/lose count 14.50/14.30 (0.20)\n",
      "Epoch 047/050 | Loss 0.0143 | Win/lose count 28.00/10.00 (18.00)\n",
      "Epoch 048/050 | Loss 0.0073 | Win/lose count 7.50/17.10 (-9.60)\n",
      "Epoch 049/050 | Loss 0.0090 | Win/lose count 19.50/10.70 (8.80)\n",
      "Epoch 050/050 | Loss 0.0118 | Win/lose count 20.00/12.00 (8.00)\n"
     ]
    },
    {
     "data": {
      "text/html": [
       "<video alt=\"test\" controls>\n",
       "                <source src=\"data:video/mp4;base64,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\" type=\"video/mp4\" />\n",
       "             </video>"
      ],
      "text/plain": [
       "<IPython.core.display.HTML object>"
      ]
     },
     "execution_count": 19,
     "metadata": {},
     "output_type": "execute_result"
    }
   ],
   "source": [
    "# Training\n",
    "env = EnvironmentExploring(grid_size=size, max_time=T, temperature=0.3)\n",
    "agent = DQN_CNN(size, lr=.1, epsilon = 0.1, memory_size=2000, batch_size = 32,n_state=3)\n",
    "train_explore(agent, env, epochs_train, decay = 0.95, prefix='cnn_train_explore')\n",
    "HTML(display_videos('cnn_train_explore50.mp4'))"
   ]
  },
  {
   "cell_type": "code",
   "execution_count": 20,
   "metadata": {},
   "outputs": [
    {
     "name": "stdout",
     "output_type": "stream",
     "text": [
      "Win/lose count 6.50/0.00. Average score (6.50)\n",
      "Win/lose count 12.00/0.00. Average score (9.25)\n",
      "Win/lose count 11.00/0.00. Average score (9.83)\n",
      "Win/lose count 8.50/0.00. Average score (9.50)\n",
      "Win/lose count 22.50/1.00. Average score (11.90)\n",
      "Win/lose count 15.50/1.00. Average score (12.33)\n",
      "Win/lose count 26.00/0.00. Average score (14.29)\n",
      "Win/lose count 16.50/0.00. Average score (14.56)\n",
      "Win/lose count 27.50/0.00. Average score (16.00)\n",
      "Win/lose count 18.00/0.00. Average score (16.20)\n",
      "Win/lose count 20.00/2.00. Average score (16.36)\n",
      "Win/lose count 18.00/2.00. Average score (16.33)\n",
      "Win/lose count 24.00/0.00. Average score (16.92)\n",
      "Win/lose count 24.50/2.00. Average score (17.32)\n",
      "Win/lose count 16.00/1.00. Average score (17.17)\n",
      "Win/lose count 17.50/1.00. Average score (17.12)\n",
      "Win/lose count 12.50/0.00. Average score (16.85)\n",
      "Win/lose count 17.50/0.00. Average score (16.89)\n",
      "Win/lose count 19.00/0.00. Average score (17.00)\n",
      "Win/lose count 20.50/0.00. Average score (17.18)\n",
      "Final score: 17.175\n"
     ]
    },
    {
     "data": {
      "text/html": [
       "<video alt=\"test\" controls>\n",
       "                <source src=\"data:video/mp4;base64,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\" type=\"video/mp4\" />\n",
       "             </video>"
      ],
      "text/plain": [
       "<IPython.core.display.HTML object>"
      ]
     },
     "execution_count": 20,
     "metadata": {},
     "output_type": "execute_result"
    }
   ],
   "source": [
    "# Evaluation\n",
    "test(agent,env,epochs_test,prefix='cnn_test_explore')\n",
    "HTML(display_videos('cnn_test_explore20.mp4'))"
   ]
  },
  {
   "cell_type": "markdown",
   "metadata": {},
   "source": [
    "***\n",
    "***\n",
    "__BONUS question__ Use the expert DQN from the previous question to generate some winning games. Train a model that mimicks its behavior. Compare the performances."
   ]
  },
  {
   "cell_type": "markdown",
   "metadata": {},
   "source": []
  },
  {
   "cell_type": "markdown",
   "metadata": {},
   "source": [
    "***"
   ]
  }
 ],
 "metadata": {
  "kernelspec": {
   "display_name": "Python 3",
   "language": "python",
   "name": "python3"
  },
  "language_info": {
   "codemirror_mode": {
    "name": "ipython",
    "version": 3
   },
   "file_extension": ".py",
   "mimetype": "text/x-python",
   "name": "python",
   "nbconvert_exporter": "python",
   "pygments_lexer": "ipython3",
   "version": "3.7.4"
  }
 },
 "nbformat": 4,
 "nbformat_minor": 2
}
